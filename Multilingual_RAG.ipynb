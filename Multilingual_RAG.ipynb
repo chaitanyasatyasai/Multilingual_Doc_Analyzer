{
  "nbformat": 4,
  "nbformat_minor": 0,
  "metadata": {
    "colab": {
      "provenance": [],
      "include_colab_link": true
    },
    "kernelspec": {
      "name": "python3",
      "display_name": "Python 3"
    },
    "language_info": {
      "name": "python"
    }
  },
  "cells": [
    {
      "cell_type": "markdown",
      "metadata": {
        "id": "view-in-github",
        "colab_type": "text"
      },
      "source": [
        "<a href=\"https://colab.research.google.com/github/chaitanyasatyasai/Multilingual_Doc_Analyzer/blob/main/Multilingual_RAG.ipynb\" target=\"_parent\"><img src=\"https://colab.research.google.com/assets/colab-badge.svg\" alt=\"Open In Colab\"/></a>"
      ]
    },
    {
      "cell_type": "code",
      "source": [
        "# Install required libraries\n",
        "!pip install deep-translator==1.7.3\n",
        "!pip install PyPDF2==1.26.0\n",
        "!pip install neo4j==4.4.0\n",
        "!pip install httpx==0.23.0\n",
        "!pip install groq==0.16.0\n",
        "!pip install python-dotenv==0.19.2\n"
      ],
      "metadata": {
        "colab": {
          "base_uri": "https://localhost:8080/"
        },
        "id": "UVzJyd8egwu7",
        "outputId": "c1ca2a42-66ab-47eb-b575-5c85d3ef5906"
      },
      "execution_count": null,
      "outputs": [
        {
          "output_type": "stream",
          "name": "stdout",
          "text": [
            "\u001b[31mERROR: Could not find a version that satisfies the requirement deep-translator==1.7.3 (from versions: 0.0.1, 0.1.0, 0.1.1, 0.1.2, 0.1.3, 0.3.1, 0.4.1, 0.4.2, 1.0.0, 1.0.1, 1.0.2, 1.0.3, 1.0.4, 1.0.5, 1.0.6, 1.0.7, 1.0.8, 1.0.9, 1.1.0, 1.1.1, 1.1.2, 1.1.3, 1.1.4, 1.1.5, 1.1.6, 1.1.7, 1.1.8, 1.1.9, 1.2.0, 1.2.1, 1.2.2, 1.2.3, 1.2.4, 1.2.5, 1.2.6, 1.2.7, 1.2.8, 1.2.9, 1.3.0, 1.3.1, 1.3.2, 1.3.3, 1.3.4, 1.3.5, 1.3.6, 1.3.7, 1.3.8, 1.3.9, 1.4.0, 1.4.1, 1.4.2, 1.4.3, 1.4.4, 1.5.0, 1.5.1, 1.5.4, 1.5.5, 1.6.0, 1.6.1, 1.7.0, 1.8.0, 1.8.1, 1.8.3, 1.9.0, 1.9.1, 1.9.2, 1.9.3, 1.10.0, 1.10.1, 1.11.0, 1.11.1, 1.11.4)\u001b[0m\u001b[31m\n",
            "\u001b[0m\u001b[31mERROR: No matching distribution found for deep-translator==1.7.3\u001b[0m\u001b[31m\n",
            "\u001b[0mCollecting PyPDF2==1.26.0\n",
            "  Downloading PyPDF2-1.26.0.tar.gz (77 kB)\n",
            "\u001b[2K     \u001b[90m━━━━━━━━━━━━━━━━━━━━━━━━━━━━━━━━━━━━━━━━\u001b[0m \u001b[32m77.6/77.6 kB\u001b[0m \u001b[31m3.0 MB/s\u001b[0m eta \u001b[36m0:00:00\u001b[0m\n",
            "\u001b[?25h  Preparing metadata (setup.py) ... \u001b[?25l\u001b[?25hdone\n",
            "Building wheels for collected packages: PyPDF2\n",
            "  Building wheel for PyPDF2 (setup.py) ... \u001b[?25l\u001b[?25hdone\n",
            "  Created wheel for PyPDF2: filename=PyPDF2-1.26.0-py3-none-any.whl size=61082 sha256=524caaece98b844c3c40e782a78a9ae39f960286d87c426845bff412675361e3\n",
            "  Stored in directory: /root/.cache/pip/wheels/71/61/d5/5383a0b3a4f5eed2438f67d4a840fafda466dd0b7286d52ab5\n",
            "Successfully built PyPDF2\n",
            "Installing collected packages: PyPDF2\n",
            "Successfully installed PyPDF2-1.26.0\n",
            "Collecting neo4j==4.4.0\n",
            "  Downloading neo4j-4.4.0.tar.gz (89 kB)\n",
            "\u001b[2K     \u001b[90m━━━━━━━━━━━━━━━━━━━━━━━━━━━━━━━━━━━━━━━━\u001b[0m \u001b[32m89.3/89.3 kB\u001b[0m \u001b[31m3.5 MB/s\u001b[0m eta \u001b[36m0:00:00\u001b[0m\n",
            "\u001b[?25h  Preparing metadata (setup.py) ... \u001b[?25l\u001b[?25hdone\n",
            "Requirement already satisfied: pytz in /usr/local/lib/python3.11/dist-packages (from neo4j==4.4.0) (2025.1)\n",
            "Building wheels for collected packages: neo4j\n",
            "  Building wheel for neo4j (setup.py) ... \u001b[?25l\u001b[?25hdone\n",
            "  Created wheel for neo4j: filename=neo4j-4.4.0-py3-none-any.whl size=114625 sha256=190cb4f5fb8d618c71817278ed97dd8ed20ca27b46d2dfe3c495e7e2bb027ebd\n",
            "  Stored in directory: /root/.cache/pip/wheels/58/fb/f9/f79ca6c228f6798ffcffa33a32f0deb870395c9139f5de4876\n",
            "Successfully built neo4j\n",
            "Installing collected packages: neo4j\n",
            "Successfully installed neo4j-4.4.0\n",
            "Collecting httpx==0.23.0\n",
            "  Downloading httpx-0.23.0-py3-none-any.whl.metadata (52 kB)\n",
            "\u001b[2K     \u001b[90m━━━━━━━━━━━━━━━━━━━━━━━━━━━━━━━━━━━━━━━━\u001b[0m \u001b[32m52.0/52.0 kB\u001b[0m \u001b[31m3.4 MB/s\u001b[0m eta \u001b[36m0:00:00\u001b[0m\n",
            "\u001b[?25hRequirement already satisfied: certifi in /usr/local/lib/python3.11/dist-packages (from httpx==0.23.0) (2025.1.31)\n",
            "Requirement already satisfied: sniffio in /usr/local/lib/python3.11/dist-packages (from httpx==0.23.0) (1.3.1)\n",
            "Collecting rfc3986<2,>=1.3 (from rfc3986[idna2008]<2,>=1.3->httpx==0.23.0)\n",
            "  Downloading rfc3986-1.5.0-py2.py3-none-any.whl.metadata (6.5 kB)\n",
            "Collecting httpcore<0.16.0,>=0.15.0 (from httpx==0.23.0)\n",
            "  Downloading httpcore-0.15.0-py3-none-any.whl.metadata (15 kB)\n",
            "Collecting h11<0.13,>=0.11 (from httpcore<0.16.0,>=0.15.0->httpx==0.23.0)\n",
            "  Downloading h11-0.12.0-py3-none-any.whl.metadata (8.1 kB)\n",
            "Collecting anyio==3.* (from httpcore<0.16.0,>=0.15.0->httpx==0.23.0)\n",
            "  Downloading anyio-3.7.1-py3-none-any.whl.metadata (4.7 kB)\n",
            "Requirement already satisfied: idna>=2.8 in /usr/local/lib/python3.11/dist-packages (from anyio==3.*->httpcore<0.16.0,>=0.15.0->httpx==0.23.0) (3.10)\n",
            "Downloading httpx-0.23.0-py3-none-any.whl (84 kB)\n",
            "\u001b[2K   \u001b[90m━━━━━━━━━━━━━━━━━━━━━━━━━━━━━━━━━━━━━━━━\u001b[0m \u001b[32m84.8/84.8 kB\u001b[0m \u001b[31m7.2 MB/s\u001b[0m eta \u001b[36m0:00:00\u001b[0m\n",
            "\u001b[?25hDownloading httpcore-0.15.0-py3-none-any.whl (68 kB)\n",
            "\u001b[2K   \u001b[90m━━━━━━━━━━━━━━━━━━━━━━━━━━━━━━━━━━━━━━━━\u001b[0m \u001b[32m68.4/68.4 kB\u001b[0m \u001b[31m5.5 MB/s\u001b[0m eta \u001b[36m0:00:00\u001b[0m\n",
            "\u001b[?25hDownloading anyio-3.7.1-py3-none-any.whl (80 kB)\n",
            "\u001b[2K   \u001b[90m━━━━━━━━━━━━━━━━━━━━━━━━━━━━━━━━━━━━━━━━\u001b[0m \u001b[32m80.9/80.9 kB\u001b[0m \u001b[31m3.9 MB/s\u001b[0m eta \u001b[36m0:00:00\u001b[0m\n",
            "\u001b[?25hDownloading rfc3986-1.5.0-py2.py3-none-any.whl (31 kB)\n",
            "Downloading h11-0.12.0-py3-none-any.whl (54 kB)\n",
            "\u001b[2K   \u001b[90m━━━━━━━━━━━━━━━━━━━━━━━━━━━━━━━━━━━━━━━━\u001b[0m \u001b[32m54.9/54.9 kB\u001b[0m \u001b[31m4.6 MB/s\u001b[0m eta \u001b[36m0:00:00\u001b[0m\n",
            "\u001b[?25hInstalling collected packages: rfc3986, h11, anyio, httpcore, httpx\n",
            "  Attempting uninstall: h11\n",
            "    Found existing installation: h11 0.14.0\n",
            "    Uninstalling h11-0.14.0:\n",
            "      Successfully uninstalled h11-0.14.0\n",
            "  Attempting uninstall: anyio\n",
            "    Found existing installation: anyio 4.9.0\n",
            "    Uninstalling anyio-4.9.0:\n",
            "      Successfully uninstalled anyio-4.9.0\n",
            "  Attempting uninstall: httpcore\n",
            "    Found existing installation: httpcore 1.0.7\n",
            "    Uninstalling httpcore-1.0.7:\n",
            "      Successfully uninstalled httpcore-1.0.7\n",
            "  Attempting uninstall: httpx\n",
            "    Found existing installation: httpx 0.28.1\n",
            "    Uninstalling httpx-0.28.1:\n",
            "      Successfully uninstalled httpx-0.28.1\n",
            "\u001b[31mERROR: pip's dependency resolver does not currently take into account all the packages that are installed. This behaviour is the source of the following dependency conflicts.\n",
            "google-genai 1.5.0 requires anyio<5.0.0dev,>=4.8.0, but you have anyio 3.7.1 which is incompatible.\n",
            "google-genai 1.5.0 requires httpx<1.0.0dev,>=0.28.1, but you have httpx 0.23.0 which is incompatible.\u001b[0m\u001b[31m\n",
            "\u001b[0mSuccessfully installed anyio-3.7.1 h11-0.12.0 httpcore-0.15.0 httpx-0.23.0 rfc3986-1.5.0\n",
            "Collecting groq==0.16.0\n",
            "  Downloading groq-0.16.0-py3-none-any.whl.metadata (14 kB)\n",
            "Requirement already satisfied: anyio<5,>=3.5.0 in /usr/local/lib/python3.11/dist-packages (from groq==0.16.0) (3.7.1)\n",
            "Requirement already satisfied: distro<2,>=1.7.0 in /usr/local/lib/python3.11/dist-packages (from groq==0.16.0) (1.9.0)\n",
            "Requirement already satisfied: httpx<1,>=0.23.0 in /usr/local/lib/python3.11/dist-packages (from groq==0.16.0) (0.23.0)\n",
            "Requirement already satisfied: pydantic<3,>=1.9.0 in /usr/local/lib/python3.11/dist-packages (from groq==0.16.0) (2.10.6)\n",
            "Requirement already satisfied: sniffio in /usr/local/lib/python3.11/dist-packages (from groq==0.16.0) (1.3.1)\n",
            "Requirement already satisfied: typing-extensions<5,>=4.10 in /usr/local/lib/python3.11/dist-packages (from groq==0.16.0) (4.12.2)\n",
            "Requirement already satisfied: idna>=2.8 in /usr/local/lib/python3.11/dist-packages (from anyio<5,>=3.5.0->groq==0.16.0) (3.10)\n",
            "Requirement already satisfied: certifi in /usr/local/lib/python3.11/dist-packages (from httpx<1,>=0.23.0->groq==0.16.0) (2025.1.31)\n",
            "Requirement already satisfied: rfc3986<2,>=1.3 in /usr/local/lib/python3.11/dist-packages (from rfc3986[idna2008]<2,>=1.3->httpx<1,>=0.23.0->groq==0.16.0) (1.5.0)\n",
            "Requirement already satisfied: httpcore<0.16.0,>=0.15.0 in /usr/local/lib/python3.11/dist-packages (from httpx<1,>=0.23.0->groq==0.16.0) (0.15.0)\n",
            "Requirement already satisfied: annotated-types>=0.6.0 in /usr/local/lib/python3.11/dist-packages (from pydantic<3,>=1.9.0->groq==0.16.0) (0.7.0)\n",
            "Requirement already satisfied: pydantic-core==2.27.2 in /usr/local/lib/python3.11/dist-packages (from pydantic<3,>=1.9.0->groq==0.16.0) (2.27.2)\n",
            "Requirement already satisfied: h11<0.13,>=0.11 in /usr/local/lib/python3.11/dist-packages (from httpcore<0.16.0,>=0.15.0->httpx<1,>=0.23.0->groq==0.16.0) (0.12.0)\n",
            "Downloading groq-0.16.0-py3-none-any.whl (109 kB)\n",
            "\u001b[2K   \u001b[90m━━━━━━━━━━━━━━━━━━━━━━━━━━━━━━━━━━━━━━━━\u001b[0m \u001b[32m109.7/109.7 kB\u001b[0m \u001b[31m5.1 MB/s\u001b[0m eta \u001b[36m0:00:00\u001b[0m\n",
            "\u001b[?25hInstalling collected packages: groq\n",
            "Successfully installed groq-0.16.0\n",
            "Collecting python-dotenv==0.19.2\n",
            "  Downloading python_dotenv-0.19.2-py2.py3-none-any.whl.metadata (18 kB)\n",
            "Downloading python_dotenv-0.19.2-py2.py3-none-any.whl (17 kB)\n",
            "Installing collected packages: python-dotenv\n",
            "Successfully installed python-dotenv-0.19.2\n"
          ]
        }
      ]
    },
    {
      "cell_type": "code",
      "source": [
        "!pip install deep-translator==1.11.4"
      ],
      "metadata": {
        "colab": {
          "base_uri": "https://localhost:8080/"
        },
        "id": "XEZMpF2-hwBF",
        "outputId": "51f8b0a2-ce8f-417a-d517-cb830db9f353"
      },
      "execution_count": null,
      "outputs": [
        {
          "output_type": "stream",
          "name": "stdout",
          "text": [
            "Collecting deep-translator==1.11.4\n",
            "  Downloading deep_translator-1.11.4-py3-none-any.whl.metadata (30 kB)\n",
            "Requirement already satisfied: beautifulsoup4<5.0.0,>=4.9.1 in /usr/local/lib/python3.11/dist-packages (from deep-translator==1.11.4) (4.13.3)\n",
            "Requirement already satisfied: requests<3.0.0,>=2.23.0 in /usr/local/lib/python3.11/dist-packages (from deep-translator==1.11.4) (2.32.3)\n",
            "Requirement already satisfied: soupsieve>1.2 in /usr/local/lib/python3.11/dist-packages (from beautifulsoup4<5.0.0,>=4.9.1->deep-translator==1.11.4) (2.6)\n",
            "Requirement already satisfied: typing-extensions>=4.0.0 in /usr/local/lib/python3.11/dist-packages (from beautifulsoup4<5.0.0,>=4.9.1->deep-translator==1.11.4) (4.12.2)\n",
            "Requirement already satisfied: charset-normalizer<4,>=2 in /usr/local/lib/python3.11/dist-packages (from requests<3.0.0,>=2.23.0->deep-translator==1.11.4) (3.4.1)\n",
            "Requirement already satisfied: idna<4,>=2.5 in /usr/local/lib/python3.11/dist-packages (from requests<3.0.0,>=2.23.0->deep-translator==1.11.4) (3.10)\n",
            "Requirement already satisfied: urllib3<3,>=1.21.1 in /usr/local/lib/python3.11/dist-packages (from requests<3.0.0,>=2.23.0->deep-translator==1.11.4) (2.3.0)\n",
            "Requirement already satisfied: certifi>=2017.4.17 in /usr/local/lib/python3.11/dist-packages (from requests<3.0.0,>=2.23.0->deep-translator==1.11.4) (2025.1.31)\n",
            "Downloading deep_translator-1.11.4-py3-none-any.whl (42 kB)\n",
            "\u001b[2K   \u001b[90m━━━━━━━━━━━━━━━━━━━━━━━━━━━━━━━━━━━━━━━━\u001b[0m \u001b[32m42.3/42.3 kB\u001b[0m \u001b[31m2.5 MB/s\u001b[0m eta \u001b[36m0:00:00\u001b[0m\n",
            "\u001b[?25hInstalling collected packages: deep-translator\n",
            "Successfully installed deep-translator-1.11.4\n"
          ]
        }
      ]
    },
    {
      "cell_type": "code",
      "source": [
        "!pip install spacy\n",
        "!python -m spacy download en_core_web_sm"
      ],
      "metadata": {
        "colab": {
          "base_uri": "https://localhost:8080/"
        },
        "id": "TP5xE4iEUo8d",
        "outputId": "61559394-3477-4acd-e3e8-6a98649edcff"
      },
      "execution_count": null,
      "outputs": [
        {
          "output_type": "stream",
          "name": "stdout",
          "text": [
            "Requirement already satisfied: spacy in /usr/local/lib/python3.11/dist-packages (3.8.4)\n",
            "Requirement already satisfied: spacy-legacy<3.1.0,>=3.0.11 in /usr/local/lib/python3.11/dist-packages (from spacy) (3.0.12)\n",
            "Requirement already satisfied: spacy-loggers<2.0.0,>=1.0.0 in /usr/local/lib/python3.11/dist-packages (from spacy) (1.0.5)\n",
            "Requirement already satisfied: murmurhash<1.1.0,>=0.28.0 in /usr/local/lib/python3.11/dist-packages (from spacy) (1.0.12)\n",
            "Requirement already satisfied: cymem<2.1.0,>=2.0.2 in /usr/local/lib/python3.11/dist-packages (from spacy) (2.0.11)\n",
            "Requirement already satisfied: preshed<3.1.0,>=3.0.2 in /usr/local/lib/python3.11/dist-packages (from spacy) (3.0.9)\n",
            "Requirement already satisfied: thinc<8.4.0,>=8.3.4 in /usr/local/lib/python3.11/dist-packages (from spacy) (8.3.4)\n",
            "Requirement already satisfied: wasabi<1.2.0,>=0.9.1 in /usr/local/lib/python3.11/dist-packages (from spacy) (1.1.3)\n",
            "Requirement already satisfied: srsly<3.0.0,>=2.4.3 in /usr/local/lib/python3.11/dist-packages (from spacy) (2.5.1)\n",
            "Requirement already satisfied: catalogue<2.1.0,>=2.0.6 in /usr/local/lib/python3.11/dist-packages (from spacy) (2.0.10)\n",
            "Requirement already satisfied: weasel<0.5.0,>=0.1.0 in /usr/local/lib/python3.11/dist-packages (from spacy) (0.4.1)\n",
            "Requirement already satisfied: typer<1.0.0,>=0.3.0 in /usr/local/lib/python3.11/dist-packages (from spacy) (0.15.2)\n",
            "Requirement already satisfied: tqdm<5.0.0,>=4.38.0 in /usr/local/lib/python3.11/dist-packages (from spacy) (4.67.1)\n",
            "Requirement already satisfied: numpy>=1.19.0 in /usr/local/lib/python3.11/dist-packages (from spacy) (2.0.2)\n",
            "Requirement already satisfied: requests<3.0.0,>=2.13.0 in /usr/local/lib/python3.11/dist-packages (from spacy) (2.32.3)\n",
            "Requirement already satisfied: pydantic!=1.8,!=1.8.1,<3.0.0,>=1.7.4 in /usr/local/lib/python3.11/dist-packages (from spacy) (2.10.6)\n",
            "Requirement already satisfied: jinja2 in /usr/local/lib/python3.11/dist-packages (from spacy) (3.1.6)\n",
            "Requirement already satisfied: setuptools in /usr/local/lib/python3.11/dist-packages (from spacy) (75.1.0)\n",
            "Requirement already satisfied: packaging>=20.0 in /usr/local/lib/python3.11/dist-packages (from spacy) (24.2)\n",
            "Requirement already satisfied: langcodes<4.0.0,>=3.2.0 in /usr/local/lib/python3.11/dist-packages (from spacy) (3.5.0)\n",
            "Requirement already satisfied: language-data>=1.2 in /usr/local/lib/python3.11/dist-packages (from langcodes<4.0.0,>=3.2.0->spacy) (1.3.0)\n",
            "Requirement already satisfied: annotated-types>=0.6.0 in /usr/local/lib/python3.11/dist-packages (from pydantic!=1.8,!=1.8.1,<3.0.0,>=1.7.4->spacy) (0.7.0)\n",
            "Requirement already satisfied: pydantic-core==2.27.2 in /usr/local/lib/python3.11/dist-packages (from pydantic!=1.8,!=1.8.1,<3.0.0,>=1.7.4->spacy) (2.27.2)\n",
            "Requirement already satisfied: typing-extensions>=4.12.2 in /usr/local/lib/python3.11/dist-packages (from pydantic!=1.8,!=1.8.1,<3.0.0,>=1.7.4->spacy) (4.12.2)\n",
            "Requirement already satisfied: charset-normalizer<4,>=2 in /usr/local/lib/python3.11/dist-packages (from requests<3.0.0,>=2.13.0->spacy) (3.4.1)\n",
            "Requirement already satisfied: idna<4,>=2.5 in /usr/local/lib/python3.11/dist-packages (from requests<3.0.0,>=2.13.0->spacy) (3.10)\n",
            "Requirement already satisfied: urllib3<3,>=1.21.1 in /usr/local/lib/python3.11/dist-packages (from requests<3.0.0,>=2.13.0->spacy) (2.3.0)\n",
            "Requirement already satisfied: certifi>=2017.4.17 in /usr/local/lib/python3.11/dist-packages (from requests<3.0.0,>=2.13.0->spacy) (2025.1.31)\n",
            "Requirement already satisfied: blis<1.3.0,>=1.2.0 in /usr/local/lib/python3.11/dist-packages (from thinc<8.4.0,>=8.3.4->spacy) (1.2.0)\n",
            "Requirement already satisfied: confection<1.0.0,>=0.0.1 in /usr/local/lib/python3.11/dist-packages (from thinc<8.4.0,>=8.3.4->spacy) (0.1.5)\n",
            "Requirement already satisfied: click>=8.0.0 in /usr/local/lib/python3.11/dist-packages (from typer<1.0.0,>=0.3.0->spacy) (8.1.8)\n",
            "Requirement already satisfied: shellingham>=1.3.0 in /usr/local/lib/python3.11/dist-packages (from typer<1.0.0,>=0.3.0->spacy) (1.5.4)\n",
            "Requirement already satisfied: rich>=10.11.0 in /usr/local/lib/python3.11/dist-packages (from typer<1.0.0,>=0.3.0->spacy) (13.9.4)\n",
            "Requirement already satisfied: cloudpathlib<1.0.0,>=0.7.0 in /usr/local/lib/python3.11/dist-packages (from weasel<0.5.0,>=0.1.0->spacy) (0.21.0)\n",
            "Requirement already satisfied: smart-open<8.0.0,>=5.2.1 in /usr/local/lib/python3.11/dist-packages (from weasel<0.5.0,>=0.1.0->spacy) (7.1.0)\n",
            "Requirement already satisfied: MarkupSafe>=2.0 in /usr/local/lib/python3.11/dist-packages (from jinja2->spacy) (3.0.2)\n",
            "Requirement already satisfied: marisa-trie>=1.1.0 in /usr/local/lib/python3.11/dist-packages (from language-data>=1.2->langcodes<4.0.0,>=3.2.0->spacy) (1.2.1)\n",
            "Requirement already satisfied: markdown-it-py>=2.2.0 in /usr/local/lib/python3.11/dist-packages (from rich>=10.11.0->typer<1.0.0,>=0.3.0->spacy) (3.0.0)\n",
            "Requirement already satisfied: pygments<3.0.0,>=2.13.0 in /usr/local/lib/python3.11/dist-packages (from rich>=10.11.0->typer<1.0.0,>=0.3.0->spacy) (2.18.0)\n",
            "Requirement already satisfied: wrapt in /usr/local/lib/python3.11/dist-packages (from smart-open<8.0.0,>=5.2.1->weasel<0.5.0,>=0.1.0->spacy) (1.17.2)\n",
            "Requirement already satisfied: mdurl~=0.1 in /usr/local/lib/python3.11/dist-packages (from markdown-it-py>=2.2.0->rich>=10.11.0->typer<1.0.0,>=0.3.0->spacy) (0.1.2)\n",
            "Collecting en-core-web-sm==3.8.0\n",
            "  Downloading https://github.com/explosion/spacy-models/releases/download/en_core_web_sm-3.8.0/en_core_web_sm-3.8.0-py3-none-any.whl (12.8 MB)\n",
            "\u001b[2K     \u001b[90m━━━━━━━━━━━━━━━━━━━━━━━━━━━━━━━━━━━━━━━━\u001b[0m \u001b[32m12.8/12.8 MB\u001b[0m \u001b[31m87.2 MB/s\u001b[0m eta \u001b[36m0:00:00\u001b[0m\n",
            "\u001b[?25h\u001b[38;5;2m✔ Download and installation successful\u001b[0m\n",
            "You can now load the package via spacy.load('en_core_web_sm')\n",
            "\u001b[38;5;3m⚠ Restart to reload dependencies\u001b[0m\n",
            "If you are in a Jupyter or Colab notebook, you may need to restart Python in\n",
            "order to load all the package's dependencies. You can do this by selecting the\n",
            "'Restart kernel' or 'Restart runtime' option.\n"
          ]
        }
      ]
    },
    {
      "cell_type": "code",
      "source": [
        "import os\n",
        "#from dotenv import load_dotenv\n",
        "from google.colab import userdata\n",
        "\n",
        "# Access secrets from Colab's Secrets Manager\n",
        "NEO4J_URI = userdata.get('NEO4J_URI')\n",
        "NEO4J_USERNAME = userdata.get('NEO4J_USERNAME')\n",
        "NEO4J_PASSWORD = userdata.get('NEO4J_PASSWORD')\n",
        "GROQ_API_KEY = userdata.get('GROQ_API_KEY')\n"
      ],
      "metadata": {
        "id": "cef45jX_hwyW"
      },
      "execution_count": 3,
      "outputs": []
    },
    {
      "cell_type": "code",
      "source": [
        "import os\n",
        "import spacy\n",
        "from neo4j import GraphDatabase\n",
        "from groq import Groq\n",
        "import PyPDF2"
      ],
      "metadata": {
        "id": "VHHURLHuU4KK"
      },
      "execution_count": null,
      "outputs": []
    },
    {
      "cell_type": "code",
      "source": [
        "nlp = spacy.load(\"en_core_web_sm\")"
      ],
      "metadata": {
        "id": "HEl7hsJuVETz"
      },
      "execution_count": null,
      "outputs": []
    },
    {
      "cell_type": "code",
      "source": [
        "!pip install pdfplumber==0.7.6"
      ],
      "metadata": {
        "id": "oHXRngXqmB0c"
      },
      "execution_count": null,
      "outputs": []
    },
    {
      "cell_type": "code",
      "source": [
        "from deep_translator import GoogleTranslator\n",
        "\n",
        "def translate_to_english(text, source_language=\"auto\"):\n",
        "    \"\"\"Translate text to English using Deep Translator.\"\"\"\n",
        "    try:\n",
        "        translator = GoogleTranslator(source=source_language, target=\"en\")\n",
        "        translated_text = translator.translate(text)\n",
        "        print(f\"Translated text: {translated_text}\")\n",
        "        return translated_text\n",
        "    except Exception as e:\n",
        "        print(f\"Error during translation: {e}\")\n",
        "        return text"
      ],
      "metadata": {
        "id": "sc4jU_c8cbq5"
      },
      "execution_count": null,
      "outputs": []
    },
    {
      "cell_type": "code",
      "source": [
        "class KnowledgeGraph:\n",
        "    def __init__(self, uri, username, password):\n",
        "        self.driver = GraphDatabase.driver(uri, auth=(username, password))\n",
        "        self.session = self.driver.session()\n",
        "\n",
        "    def store_entities(self, entities, relations):\n",
        "         \"\"\"Create nodes for entities and relationships in Neo4j.\"\"\"\n",
        "         def create_entity(tx, name):\n",
        "             tx.run(\"MERGE (e:Entity {name: $name})\", name=name.strip())\n",
        "\n",
        "         def create_relation(tx, start, rel, end):\n",
        "             tx.run(\"\"\"\n",
        "                 MATCH (a:Entity {name: $start}), (b:Entity {name: $end})\n",
        "                 MERGE (a)-[:RELATION {type: $rel}]->(b)\n",
        "                 \"\"\", start=start.strip(), end=end.strip(), rel=rel.strip())\n",
        "\n",
        "         # Store nodes\n",
        "         for entity in entities:\n",
        "            self.session.write_transaction(create_entity, entity)\n",
        "            print(f\"✅ Stored Entity: {entity}\")\n",
        "\n",
        "    # Store relationships\n",
        "         for start, relation, end in relations:\n",
        "            self.session.write_transaction(create_relation, start, relation, end)\n",
        "            print(f\"✅ Stored Relation: ({start})-[:{relation}]->({end})\")\n",
        "    def debug_graph(self):\n",
        "          \"\"\"Print all nodes and relationships.\"\"\"\n",
        "          print(\"\\n🔍 Nodes in Neo4j:\")\n",
        "          nodes = self.session.run(\"MATCH (n:Entity) RETURN n LIMIT 10\")\n",
        "          for node in nodes:\n",
        "              print(node[\"n\"][\"name\"])\n",
        "\n",
        "          print(\"\\n🔗 Relationships in Neo4j:\")\n",
        "          rels = self.session.run(\"\"\"\n",
        "          MATCH (a:Entity)-[r:RELATION]->(b:Entity)\n",
        "          RETURN a.name AS start, r.type AS relation, b.name AS end\n",
        "          \"\"\")\n",
        "          for record in rels:\n",
        "              print(f\"({record['start']})-[:{record['relation']}]->({record['end']})\")\n",
        "\n",
        "\n",
        "\n",
        "    def query_graph(self, query):\n",
        "        \"\"\"Query Neo4j graph and return results.\"\"\"\n",
        "        result = self.session.run(\n",
        "            \"\"\"\n",
        "            MATCH (a)-[r]->(b)\n",
        "            WHERE a.name CONTAINS $query OR b.name CONTAINS $query\n",
        "            RETURN a, r, b\n",
        "            \"\"\", {\"query\": query}\n",
        "        )\n",
        "        return [(record[\"a\"].get(\"name\"), record[\"r\"].get(\"type\"), record[\"b\"].get(\"name\")) for record in result]\n",
        "\n",
        "    def close(self):\n",
        "        self.session.close()\n",
        "        self.driver.close()"
      ],
      "metadata": {
        "id": "m2vy4iP4VK7t"
      },
      "execution_count": null,
      "outputs": []
    },
    {
      "cell_type": "code",
      "source": [
        "import pdfplumber\n",
        "\n",
        "def extract_text_from_pdf(pdf_path):\n",
        "    \"\"\"Extract text from a PDF using pdfplumber for better accuracy.\"\"\"\n",
        "    text = \"\"\n",
        "    with pdfplumber.open(pdf_path) as pdf:\n",
        "        for page in pdf.pages:\n",
        "            page_text = page.extract_text() or \"\"\n",
        "            #print(f\"Extracted Page Text: {page_text}\")\n",
        "            text += page_text\n",
        "    return text\n"
      ],
      "metadata": {
        "id": "XSp1SFZRiJp5"
      },
      "execution_count": null,
      "outputs": []
    },
    {
      "cell_type": "code",
      "source": [
        "def extract_entities(text):\n",
        "    \"\"\"Extract entities and relationships from the text.\"\"\"\n",
        "    doc = nlp(text)\n",
        "    entities = set([ent.text for ent in doc.ents])\n",
        "\n",
        "    relations = []\n",
        "    for token in doc:\n",
        "        if token.dep_ in (\"nsubj\", \"dobj\") and token.head.pos_ == \"VERB\":\n",
        "            relations.append((token.head.text, token.dep_, token.text))\n",
        "    return entities, relations\n",
        "\n",
        "def query_response(query):\n",
        "    \"\"\"Generate a response using Groq API (Llama 3.3).\"\"\"\n",
        "    client = Groq(api_key=GROQ_API_KEY)\n",
        "\n",
        "    chat_completion = client.chat.completions.create(\n",
        "        messages=[{\"role\": \"user\", \"content\": query}],\n",
        "        model=\"llama-3.3-70b-versatile\",\n",
        "        stream=False,\n",
        "    )\n",
        "\n",
        "    return chat_completion.choices[0].message.content"
      ],
      "metadata": {
        "id": "AK-CLlaVV5BQ"
      },
      "execution_count": null,
      "outputs": []
    },
    {
      "cell_type": "code",
      "source": [
        "def main():\n",
        "    pdf_path = input(\"Enter the path to the PDF file: \")\n",
        "\n",
        "    # Extract and process text\n",
        "    text = extract_text_from_pdf(pdf_path)\n",
        "    print(\"Text extracted successfully.\")\n",
        "\n",
        "    # Translate text if not in English\n",
        "    text = translate_to_english(text)\n",
        "\n",
        "    # Extract entities and relationships\n",
        "    entities, relations = extract_entities(text)\n",
        "    print(\"Entities and Relations extracted.\")\n",
        "    print(\"Entities:\", entities)\n",
        "    print(\"Relations:\", relations)\n",
        "\n",
        "    # Store in Neo4j\n",
        "    kg = KnowledgeGraph(NEO4J_URI, NEO4J_USERNAME, NEO4J_PASSWORD)\n",
        "    kg.store_entities(entities, relations)\n",
        "    print(\"Entities and relationships stored in the Knowledge Graph.\")\n",
        "\n",
        "    # User Query and Response\n",
        "    user_query = input(\"Enter your query: \")\n",
        "    graph_results = kg.query_graph(user_query)\n",
        "    print(\"Graph-based search results:\", graph_results)\n",
        "\n",
        "    # Use LLM to interpret graph output\n",
        "    enriched_query = f\"Context: {graph_results}. User Query: {user_query}\"\n",
        "    response = query_response(enriched_query)\n",
        "    print(\"Response:\", response)\n",
        "\n",
        "    kg.close()\n",
        "\n",
        "if __name__ == \"__main__\":\n",
        "    main()\n"
      ],
      "metadata": {
        "colab": {
          "base_uri": "https://localhost:8080/"
        },
        "id": "uPHFzZUfWF06",
        "outputId": "10ee2947-98db-4a61-dea6-b120f36879d7"
      },
      "execution_count": null,
      "outputs": [
        {
          "output_type": "stream",
          "name": "stdout",
          "text": [
            "Enter the path to the PDF file: /content/ml-2.pdf\n",
            "Text extracted successfully.\n",
            "Error during translation: Request exception can happen due to an api connection error. Please check your connection and try again\n",
            "Entities and Relations extracted.\n",
            "Entities: {'3', 'గూగుల్\\u200c', 'వసుి వినియోగ రద్తధ', 'వివేకంత కూడుకని', 'షియల ్\\u200cఇంటెలిజెన్స ్\\u200c (కృప్తిమ మేధ్', 'ర్థ్సే', 'రీ-ఇన్్\\u200cఫోరస', 'టరి', 'వినిమయ శకి', 'ంగ', 'మెషిన్్\\u200c లరి ంగ్\\u200cకి స్ంబంధంచి', 'ర్ంగు చిప్తాల', 'ంటిది', 'ప్యర్', 'ఉరయోగాలు', 'ప్యర్వ', 'ప్ోప్గామ్\\u200cలను', 'మాలోేని', '4', 'విడిగా', 'కొత ిఆవిషక ర్ణలు', 'వాూ ధ లక్షణ రరశీలన', 'మెషిన్్\\u200c లరి', 'తరి', 'ప్రజ్)ా', 'ర్చన', 'నడిపే', 'కూడిన', 'ఆరఫిట షియల్\\u200c', 'ఆరఫిట షియల్\\u200c ఇంటెలిజెన్స ్\\u200c', 'టర్నుే', 'ఉరర్ంగం', 'ప్టేజ్\\u200c - వాూ', 'ఆరఫిట', '2', 'వేర్లవ', 'నిర్యాణ లు తీసుకొని', 'రకాలు', '1', 'విశ్లషిే', 'అరర్ూ', '్\\u200c అనేది న్యూ ర్ల్\\u200c', 'అలవాట్లే', 'రర్ూ'}\n",
            "Relations: [('మెషీన్', 'nsubj', 'లేదా'), ('మెషీన్', 'nsubj', 'లేకండా'), ('మెషీన్', 'nsubj', 'లక'), ('్\\u200c', 'nsubj', 'నిి'), ('అవస్ర్ం', 'nsubj', 'ంగ'), ('లరి', 'nsubj', 'మెషిన్్\\u200c'), ('కంపుూ', 'nsubj', '్\\u200c'), ('్\\u200c', 'nsubj', 'ంగ్\\u200c'), ('గణన', 'dobj', 'ప్రజ్)ా'), ('్\\u200c', 'nsubj', 'టరి'), ('రీతల', 'dobj', 'మానూ'), ('రీతల', 'dobj', 'మెషిన్్\\u200c'), ('చవచుు', 'nsubj', 'గురంి'), ('తెలుసుకోవాలి', 'nsubj', 'తరి'), ('ంగ్\\u200cలో', 'nsubj', 'లరి'), ('ంగ్\\u200cలో', 'dobj', 'ఉంట్లంది'), ('అరక', 'dobj', '్\\u200cమీద్'), ('్\\u200c', 'nsubj', 'ఆరఫిట'), ('వూ', 'nsubj', 'ధచేసే'), ('వూ', 'dobj', 'వస్'), ('అనువర్ని', 'nsubj', 'టెకాి'), ('అనువర్ని', 'dobj', 'ఈ'), ('అనువర్ని', 'dobj', 'కింది'), ('అనువర్ని', 'dobj', 'రోజుకీ'), ('అనువర్ని', 'dobj', 'స్ింది'), ('గురంి', 'nsubj', 'అక్షర్థ్లను'), ('గురంి', 'dobj', 'చడం'), ('ప్యర్', 'dobj', 'ర్ణలు'), ('్\\u200cమార్కక', 'nsubj', 'షేర'), ('ప్యర్', 'dobj', 'స్మూహాల'), ('డేటా', 'nsubj', 'అనిరా'), ('డేటా', 'nsubj', 'త'), ('•', 'nsubj', 'ప్గాహ్ూ'), ('్\\u200c', 'nsubj', 'సెరు'), ('ఇష్టటనిష్టటల', 'nsubj', 'త')]\n",
            "✅ Stored Entity: 3\n",
            "✅ Stored Entity: గూగుల్‌\n",
            "✅ Stored Entity: వసుి వినియోగ రద్తధ\n",
            "✅ Stored Entity: వివేకంత కూడుకని\n",
            "✅ Stored Entity: షియల ్‌ఇంటెలిజెన్స ్‌ (కృప్తిమ మేధ్\n",
            "✅ Stored Entity: ర్థ్సే\n",
            "✅ Stored Entity: రీ-ఇన్్‌ఫోరస\n",
            "✅ Stored Entity: టరి\n",
            "✅ Stored Entity: వినిమయ శకి\n",
            "✅ Stored Entity: ంగ\n",
            "✅ Stored Entity: మెషిన్్‌ లరి ంగ్‌కి స్ంబంధంచి\n",
            "✅ Stored Entity: ర్ంగు చిప్తాల\n",
            "✅ Stored Entity: ంటిది\n",
            "✅ Stored Entity: ప్యర్\n",
            "✅ Stored Entity: ఉరయోగాలు\n",
            "✅ Stored Entity: ప్యర్వ\n",
            "✅ Stored Entity: ప్ోప్గామ్‌లను\n",
            "✅ Stored Entity: మాలోేని\n",
            "✅ Stored Entity: 4\n",
            "✅ Stored Entity: విడిగా\n",
            "✅ Stored Entity: కొత ిఆవిషక ర్ణలు\n",
            "✅ Stored Entity: వాూ ధ లక్షణ రరశీలన\n",
            "✅ Stored Entity: మెషిన్్‌ లరి\n",
            "✅ Stored Entity: తరి\n",
            "✅ Stored Entity: ప్రజ్)ా\n",
            "✅ Stored Entity: ర్చన\n",
            "✅ Stored Entity: నడిపే\n",
            "✅ Stored Entity: కూడిన\n",
            "✅ Stored Entity: ఆరఫిట షియల్‌\n",
            "✅ Stored Entity: ఆరఫిట షియల్‌ ఇంటెలిజెన్స ్‌\n",
            "✅ Stored Entity: టర్నుే\n",
            "✅ Stored Entity: ఉరర్ంగం\n",
            "✅ Stored Entity: ప్టేజ్‌ - వాూ\n",
            "✅ Stored Entity: ఆరఫిట\n",
            "✅ Stored Entity: 2\n",
            "✅ Stored Entity: వేర్లవ\n",
            "✅ Stored Entity: నిర్యాణ లు తీసుకొని\n",
            "✅ Stored Entity: రకాలు\n",
            "✅ Stored Entity: 1\n",
            "✅ Stored Entity: విశ్లషిే\n",
            "✅ Stored Entity: అరర్ూ\n",
            "✅ Stored Entity: ్‌ అనేది న్యూ ర్ల్‌\n",
            "✅ Stored Entity: అలవాట్లే\n",
            "✅ Stored Entity: రర్ూ\n",
            "✅ Stored Relation: (మెషీన్)-[:nsubj]->(లేదా)\n",
            "✅ Stored Relation: (మెషీన్)-[:nsubj]->(లేకండా)\n",
            "✅ Stored Relation: (మెషీన్)-[:nsubj]->(లక)\n",
            "✅ Stored Relation: (్‌)-[:nsubj]->(నిి)\n",
            "✅ Stored Relation: (అవస్ర్ం)-[:nsubj]->(ంగ)\n",
            "✅ Stored Relation: (లరి)-[:nsubj]->(మెషిన్్‌)\n",
            "✅ Stored Relation: (కంపుూ)-[:nsubj]->(్‌)\n",
            "✅ Stored Relation: (్‌)-[:nsubj]->(ంగ్‌)\n",
            "✅ Stored Relation: (గణన)-[:dobj]->(ప్రజ్)ా)\n",
            "✅ Stored Relation: (్‌)-[:nsubj]->(టరి)\n",
            "✅ Stored Relation: (రీతల)-[:dobj]->(మానూ)\n",
            "✅ Stored Relation: (రీతల)-[:dobj]->(మెషిన్్‌)\n",
            "✅ Stored Relation: (చవచుు)-[:nsubj]->(గురంి)\n",
            "✅ Stored Relation: (తెలుసుకోవాలి)-[:nsubj]->(తరి)\n",
            "✅ Stored Relation: (ంగ్‌లో)-[:nsubj]->(లరి)\n",
            "✅ Stored Relation: (ంగ్‌లో)-[:dobj]->(ఉంట్లంది)\n",
            "✅ Stored Relation: (అరక)-[:dobj]->(్‌మీద్)\n",
            "✅ Stored Relation: (్‌)-[:nsubj]->(ఆరఫిట)\n",
            "✅ Stored Relation: (వూ)-[:nsubj]->(ధచేసే)\n",
            "✅ Stored Relation: (వూ)-[:dobj]->(వస్)\n",
            "✅ Stored Relation: (అనువర్ని)-[:nsubj]->(టెకాి)\n",
            "✅ Stored Relation: (అనువర్ని)-[:dobj]->(ఈ)\n",
            "✅ Stored Relation: (అనువర్ని)-[:dobj]->(కింది)\n",
            "✅ Stored Relation: (అనువర్ని)-[:dobj]->(రోజుకీ)\n",
            "✅ Stored Relation: (అనువర్ని)-[:dobj]->(స్ింది)\n",
            "✅ Stored Relation: (గురంి)-[:nsubj]->(అక్షర్థ్లను)\n",
            "✅ Stored Relation: (గురంి)-[:dobj]->(చడం)\n",
            "✅ Stored Relation: (ప్యర్)-[:dobj]->(ర్ణలు)\n",
            "✅ Stored Relation: (్‌మార్కక)-[:nsubj]->(షేర)\n",
            "✅ Stored Relation: (ప్యర్)-[:dobj]->(స్మూహాల)\n",
            "✅ Stored Relation: (డేటా)-[:nsubj]->(అనిరా)\n",
            "✅ Stored Relation: (డేటా)-[:nsubj]->(త)\n",
            "✅ Stored Relation: (•)-[:nsubj]->(ప్గాహ్ూ)\n",
            "✅ Stored Relation: (్‌)-[:nsubj]->(సెరు)\n",
            "✅ Stored Relation: (ఇష్టటనిష్టటల)-[:nsubj]->(త)\n",
            "Entities and relationships stored in the Knowledge Graph.\n",
            "Enter your query: what  is machine learning\n",
            "Graph-based search results: []\n",
            "Response: **Machine Learning: An Overview**\n",
            "\n",
            "Machine learning is a subset of artificial intelligence (AI) that involves the use of algorithms and statistical models to enable machines to perform tasks without being explicitly programmed. It allows systems to learn from data, identify patterns, and make decisions or predictions with minimal human intervention.\n",
            "\n",
            "**Key Aspects of Machine Learning:**\n",
            "\n",
            "1. **Data-Driven**: Machine learning relies on large amounts of data to learn and improve its performance.\n",
            "2. **Algorithmic**: Machine learning uses algorithms to analyze data and make predictions or decisions.\n",
            "3. **Self-Improvement**: Machine learning systems can improve their performance over time through experience and learning from data.\n",
            "4. **Autonomy**: Machine learning systems can operate with minimal human intervention, making decisions and taking actions based on their training.\n",
            "\n",
            "**Types of Machine Learning:**\n",
            "\n",
            "1. **Supervised Learning**: The system is trained on labeled data to learn the relationship between input and output.\n",
            "2. **Unsupervised Learning**: The system is trained on unlabeled data to discover patterns and relationships.\n",
            "3. **Reinforcement Learning**: The system learns by interacting with an environment and receiving rewards or penalties for its actions.\n",
            "\n",
            "**Applications of Machine Learning:**\n",
            "\n",
            "1. **Image Recognition**: Machine learning is used in image recognition, object detection, and facial recognition.\n",
            "2. **Natural Language Processing**: Machine learning is used in speech recognition, language translation, and text analysis.\n",
            "3. **Predictive Modeling**: Machine learning is used in predictive modeling, forecasting, and recommendation systems.\n",
            "4. **Autonomous Systems**: Machine learning is used in autonomous vehicles, drones, and robots.\n",
            "\n",
            "**Real-World Examples:**\n",
            "\n",
            "1. **Google Search**: Google's search algorithm uses machine learning to rank search results and provide personalized recommendations.\n",
            "2. **Amazon Recommendations**: Amazon's recommendation system uses machine learning to suggest products based on user behavior and preferences.\n",
            "3. **Self-Driving Cars**: Companies like Tesla and Waymo use machine learning to enable autonomous vehicles to navigate roads and make decisions.\n",
            "\n",
            "**Conclusion:**\n",
            "\n",
            "Machine learning is a powerful technology that has the potential to revolutionize various industries and aspects of our lives. Its ability to learn from data, identify patterns, and make decisions or predictions has made it a crucial component of many AI applications. As machine learning continues to evolve, we can expect to see even more innovative applications and uses in the future.\n"
          ]
        }
      ]
    },
    {
      "cell_type": "code",
      "source": [
        "import matplotlib.pyplot as plt\n",
        "import networkx as nx\n",
        "\n",
        "# Create a directed graph\n",
        "G = nx.DiGraph()\n",
        "\n",
        "# # Add nodes and edges\n",
        "entities = {'4', 'F1', 'Conclusion \\nMachine', 'Challenges and Considerations \\n•  Overfitting', 'linear', 'Underfitting', 'Vector Machines'}\n",
        "relations = [('Understanding', 'Learning'), ('empowers', 'computers'), ('make', 'decisions'),('learning', 'computers'),('linear', 'learning'),('computers', 'make'), ('understanding', 'learning'),('computers', 'make')]\n",
        "\n",
        "G.add_nodes_from(entities)\n",
        "G.add_edges_from(relations)\n",
        "\n",
        "# Use a spring layout for better visualization\n",
        "pos = nx.spring_layout(G, k=0.3)\n",
        "\n",
        "plt.figure(figsize=(7, 7))\n",
        "nx.draw(G, pos, with_labels=True, node_size=1000, node_color=\"skyblue\", font_size=5, edge_color=\"gray\", arrowsize=20)\n",
        "plt.show()\n"
      ],
      "metadata": {
        "colab": {
          "base_uri": "https://localhost:8080/",
          "height": 736
        },
        "id": "Ox4Gg7TAXslT",
        "outputId": "b4abda02-4116-44d7-96a1-33327fed2ca7"
      },
      "execution_count": null,
      "outputs": [
        {
          "output_type": "display_data",
          "data": {
            "text/plain": [
              "<Figure size 700x700 with 1 Axes>"
            ],
            "image/png": "[encoded data removed]"
          },
          "metadata": {}
        }
      ]
    },
    {
      "cell_type": "code",
      "source": [
        "import psutil\n",
        "ram_gb = psutil.virtual_memory().total / 1e9\n",
        "print(f\"Available RAM: {ram_gb:.2f} GB\")\n"
      ],
      "metadata": {
        "id": "DLfQBUZKgkVk",
        "colab": {
          "base_uri": "https://localhost:8080/"
        },
        "outputId": "fde27cb1-e827-48ac-a364-cb12c5e1d424"
      },
      "execution_count": null,
      "outputs": [
        {
          "output_type": "stream",
          "name": "stdout",
          "text": [
            "Available RAM: 13.61 GB\n"
          ]
        }
      ]
    }
  ]
}